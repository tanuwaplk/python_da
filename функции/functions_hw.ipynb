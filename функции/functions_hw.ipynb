{
 "cells": [
  {
   "cell_type": "markdown",
   "metadata": {},
   "source": [
    "# Домашнее задание к лекции «Функции»\n"
   ]
  },
  {
   "cell_type": "markdown",
   "metadata": {},
   "source": [
    "Вам нужно помочь секретарю автоматизировать работу. Для этого нужно написать программу, которая будет на основе хранимых данных исполнять пользовательские команды.\n",
    "\n",
    "Исходные данные имеют следующую структуру:\n",
    "\n",
    "1. перечень всех документов\n",
    "\n",
    "documents = [\n",
    "{‘type’: ‘passport’, ‘number’: ‘2207 876234’, ‘name’: ‘Василий Гупкин’},\n",
    "{‘type’: ‘invoice’, ‘number’: ‘11-2’, ‘name’: ‘Геннадий Покемонов’},\n",
    "{‘type’: ‘insurance’, ‘number’: ‘10006’, ‘name’: ‘Аристарх Павлов’}\n",
    "]\n",
    "\n",
    "2.перечень полок, на которых хранятся документы (если документ есть в documents, то он обязательно должен быть и в directories)\n",
    "\n",
    "directories = {\n",
    "‘1’: [‘2207 876234’, ‘11-2’],\n",
    "‘2’: [‘10006’],\n",
    "‘3’: []\n",
    "}"
   ]
  },
  {
   "cell_type": "code",
   "execution_count": 310,
   "metadata": {},
   "outputs": [],
   "source": [
    "documents = [\n",
    "{'type': 'passport', 'number': '2207 876234', 'name': 'Василий Гупкин'},\n",
    "{'type': 'invoice', 'number': '11-2', 'name': 'Геннадий Покемонов'},\n",
    "{'type': 'insurance', 'number': '10006', 'name': 'Аристарх Павлов'}\n",
    "]"
   ]
  },
  {
   "cell_type": "code",
   "execution_count": 311,
   "metadata": {},
   "outputs": [],
   "source": [
    "directories = {\n",
    "'1': ['2207 876234', '11-2'],\n",
    "'2': ['10006'],\n",
    "'3': []\n",
    "}"
   ]
  },
  {
   "cell_type": "markdown",
   "metadata": {},
   "source": [
    "### Задание 1\n",
    "#### Пункт 1. Пользователь по команде “p” может узнать владельца документа по его номеру"
   ]
  },
  {
   "cell_type": "code",
   "execution_count": 32,
   "metadata": {},
   "outputs": [],
   "source": [
    "def document_owner():\n",
    "\n",
    "    document_number = input(\"Введите номер документа: \")\n",
    "    \n",
    "            return print(f\"Владелец документа: {document['name']}\")\n",
    "    return print(\"Документ не найден в базе\")\n",
    "    \n",
    "    "
   ]
  },
  {
   "cell_type": "code",
   "execution_count": 26,
   "metadata": {},
   "outputs": [
    {
     "name": "stdout",
     "output_type": "stream",
     "text": [
      "Введите номер документа: 11-2\n",
      "Владелец документа: Геннадий Покемонов\n"
     ]
    }
   ],
   "source": [
    "document_owner()\n"
   ]
  },
  {
   "cell_type": "code",
   "execution_count": 206,
   "metadata": {},
   "outputs": [],
   "source": [
    "def main():\n",
    "    while True:\n",
    "        comand_name = input(\"Введите команду: \")\n",
    "        if comand_name == 'p':\n",
    "            document_owner()\n",
    "            break"
   ]
  },
  {
   "cell_type": "code",
   "execution_count": 28,
   "metadata": {},
   "outputs": [
    {
     "name": "stdout",
     "output_type": "stream",
     "text": [
      "Введите команду: p\n",
      "Введите номер документа: 11-2\n",
      "Владелец документа: Геннадий Покемонов\n"
     ]
    }
   ],
   "source": [
    "main()"
   ]
  },
  {
   "cell_type": "markdown",
   "metadata": {},
   "source": [
    "#### Пункт 2. Пользователь по команде “s” может по номеру документа узнать на какой полке он хранится"
   ]
  },
  {
   "cell_type": "code",
   "execution_count": 205,
   "metadata": {},
   "outputs": [],
   "source": [
    "def main():\n",
    "    while True:\n",
    "        comand_name = input(\"Введите команду: \")\n",
    "        if comand_name == 'p':\n",
    "            document_owner()\n",
    "        elif comand_name == 's':\n",
    "            document_directory()\n",
    "        elif comand_name == 'q':\n",
    "            break"
   ]
  },
  {
   "cell_type": "code",
   "execution_count": 292,
   "metadata": {},
   "outputs": [],
   "source": [
    "def document_directory():    \n",
    "    doc_number = input(\"Введите номер документа: \")\n",
    "    for directory in directories.items():\n",
    "        if doc_number in directory[1]:\n",
    "            return print(f\"Документ хранится на полке: {directory[0]}\")\n",
    "    return print(\"Документ не найден в базе\")"
   ]
  },
  {
   "cell_type": "code",
   "execution_count": 293,
   "metadata": {},
   "outputs": [
    {
     "name": "stdout",
     "output_type": "stream",
     "text": [
      "Введите номер документа: s\n",
      "Документ не найден в базе\n"
     ]
    }
   ],
   "source": [
    "document_directory()"
   ]
  },
  {
   "cell_type": "code",
   "execution_count": 47,
   "metadata": {},
   "outputs": [
    {
     "name": "stdout",
     "output_type": "stream",
     "text": [
      "Введите команду: s\n",
      "Введите номер документа: 11-2\n",
      "Документ хранится на полке: 1\n"
     ]
    }
   ],
   "source": [
    "main()"
   ]
  },
  {
   "cell_type": "markdown",
   "metadata": {},
   "source": [
    "#### Пункт 3. Пользователь по команде “l” может увидеть полную информацию по всем документам"
   ]
  },
  {
   "cell_type": "code",
   "execution_count": 147,
   "metadata": {},
   "outputs": [],
   "source": [
    "def create_full_desription():\n",
    "    \n",
    "    '''\n",
    "    Фунция создает список словарей с полным описанием информацией по документам, объединяет собой documents и directories.\n",
    "    Пример: \n",
    " [{'type': 'passport',\n",
    "  'number': '2207 876234',\n",
    "  'name': 'Василий Гупкин',\n",
    "  'directory_number': '1'},\n",
    " {'type': 'invoice',\n",
    "  'number': '11-2',\n",
    "  'name': 'Геннадий Покемонов',\n",
    "  'directory_number': '1'},\n",
    " {'type': 'insurance',\n",
    "  'number': '10006',\n",
    "  'name': 'Аристарх Павлов',\n",
    "  'directory_number': '2'}]\n",
    "    '''\n",
    "    \n",
    "    import copy\n",
    "    documents_full = []\n",
    "    for doc in documents:\n",
    "        d2 = copy.deepcopy(doc)\n",
    "        documents_full.append(d2)\n",
    "    \n",
    "    for document in documents_full:\n",
    "        for directory in directories.items():\n",
    "            if document['number'] in directory[1]:\n",
    "                document[\"directory_number\"] = directory[0]\n",
    "    return(documents_full)"
   ]
  },
  {
   "cell_type": "code",
   "execution_count": 153,
   "metadata": {},
   "outputs": [],
   "source": [
    "def documents_description():\n",
    "    # автоматически обновляем обшую информацию о документам, чтобы подтянуть актуальную информацию из documents и directories.\n",
    "    documents_full = create_full_desription()\n",
    "    for document in documents_full:\n",
    "        print(f\"№{document['number']}, тип: {document['type']}, владелец: {document['name']}, полка хранения: {document['directory_number']}\")"
   ]
  },
  {
   "cell_type": "code",
   "execution_count": 150,
   "metadata": {},
   "outputs": [
    {
     "name": "stdout",
     "output_type": "stream",
     "text": [
      "2207 876234, тип: passport, владелец: Василий Гупкин, полка хранения: 1\n",
      "11-2, тип: invoice, владелец: Геннадий Покемонов, полка хранения: 1\n",
      "10006, тип: insurance, владелец: Аристарх Павлов, полка хранения: 2\n"
     ]
    }
   ],
   "source": [
    "documents_description()"
   ]
  },
  {
   "cell_type": "code",
   "execution_count": 204,
   "metadata": {},
   "outputs": [],
   "source": [
    "def main():\n",
    "    while True:\n",
    "        comand_name = input(\"Введите команду: \")\n",
    "        if comand_name == 'p':\n",
    "            document_owner()\n",
    "        elif comand_name == 's':\n",
    "            document_directory()\n",
    "        elif comand_name == 'l':\n",
    "            documents_description()\n",
    "        elif comand_name == 'q':\n",
    "            break"
   ]
  },
  {
   "cell_type": "code",
   "execution_count": 154,
   "metadata": {},
   "outputs": [
    {
     "name": "stdout",
     "output_type": "stream",
     "text": [
      "Введите команду: l\n",
      "№2207 876234, тип: passport, владелец: Василий Гупкин, полка хранения: 1\n",
      "№11-2, тип: invoice, владелец: Геннадий Покемонов, полка хранения: 1\n",
      "№10006, тип: insurance, владелец: Аристарх Павлов, полка хранения: 2\n"
     ]
    }
   ],
   "source": [
    "main()"
   ]
  },
  {
   "cell_type": "markdown",
   "metadata": {},
   "source": [
    "#### Пункт 4. Пользователь по команде “as” может добавить новую полку"
   ]
  },
  {
   "cell_type": "code",
   "execution_count": 157,
   "metadata": {},
   "outputs": [
    {
     "name": "stdout",
     "output_type": "stream",
     "text": [
      "{'1': ['2207 876234', '11-2'], '2': ['10006'], '3': []}\n"
     ]
    }
   ],
   "source": [
    "print(directories)"
   ]
  },
  {
   "cell_type": "code",
   "execution_count": 228,
   "metadata": {},
   "outputs": [],
   "source": [
    "def current_directories():\n",
    "    \"\"\"\n",
    "    Функция возвращает перечент существующих полок.\n",
    "    Пример: \n",
    "    Текущий перечень папок: 1,2,3.\n",
    "    \"\"\"\n",
    "    print(\"Текущий перечень полок: \", end='')\n",
    "    i = 0\n",
    "    for key in sorted(directories.keys()):\n",
    "        if i < (len(directories.keys()) -1):\n",
    "            print(key, end=',')\n",
    "            i +=1\n",
    "        else: \n",
    "            print(key, end='.')\n",
    "            print(\"\")"
   ]
  },
  {
   "cell_type": "code",
   "execution_count": 229,
   "metadata": {},
   "outputs": [
    {
     "name": "stdout",
     "output_type": "stream",
     "text": [
      "Текущий перечень полок: 1,2,3,4,5.\n"
     ]
    }
   ],
   "source": [
    "current_directories()"
   ]
  },
  {
   "cell_type": "code",
   "execution_count": null,
   "metadata": {},
   "outputs": [],
   "source": [
    "def add_directory():\n",
    "    \"\"\"\n",
    "    Функция добавляет папку к существующему списку папок.\n",
    "    Пример:\n",
    "    \n",
    "    Введите номер полки:\n",
    "    10\n",
    "    Результат:\n",
    "    Полка добавлена. Текущий перечень полок: 1, 2, 3, 10.\n",
    "\n",
    "    Введите номер полки:\n",
    "    1\n",
    "    Результат:\n",
    "    Такая полка уже существует. Текущий перечень полок: 1, 2, 3.\n",
    "    \"\"\"\n",
    "    directory_number = input(\"Введите номер полки: \")\n",
    "    if directory_number in directories:\n",
    "        print(\"Такая полка уже существует.\", end=' ')\n",
    "        current_directories()\n",
    "    else: \n",
    "        directories[directory_number] = []\n",
    "        print(\"Полка добавлена.\", end=' ')\n",
    "        current_directories()"
   ]
  },
  {
   "cell_type": "code",
   "execution_count": null,
   "metadata": {},
   "outputs": [],
   "source": [
    "add_directory()"
   ]
  },
  {
   "cell_type": "code",
   "execution_count": null,
   "metadata": {},
   "outputs": [],
   "source": [
    "def main():\n",
    "    while True:\n",
    "        comand_name = input(\"Введите команду: \")\n",
    "        if comand_name == 'p':\n",
    "            document_owner()\n",
    "        elif comand_name == 's':\n",
    "            document_directory()\n",
    "        elif comand_name == 'l':\n",
    "            documents_description()\n",
    "        elif comand_name == 'as':\n",
    "            add_directory()\n",
    "        elif comand_name == 'q':\n",
    "            break"
   ]
  },
  {
   "cell_type": "code",
   "execution_count": 238,
   "metadata": {},
   "outputs": [
    {
     "name": "stdout",
     "output_type": "stream",
     "text": [
      "Введите команду: as\n",
      "Введите номер полки: 4\n",
      "Полка добавлена. Текущий перечень полок: 1,2,3,4.\n",
      "Введите команду: q\n"
     ]
    }
   ],
   "source": [
    "main()"
   ]
  },
  {
   "cell_type": "markdown",
   "metadata": {},
   "source": [
    "####  Пункт 5. Пользователь по команде “ds” может удалить существующую полку из данных (только если она пустая)"
   ]
  },
  {
   "cell_type": "code",
   "execution_count": 317,
   "metadata": {},
   "outputs": [],
   "source": [
    "def delete_directory():   \n",
    "    directory_number = input(\"Введите номер полки: \")\n",
    "    if directory_number in directories and len(directories[directory_number]) == 0:\n",
    "        directories.pop(directory_number)\n",
    "        print(\"Полка удалена.\", end=' ')\n",
    "        current_directories()\n",
    "    elif directory_number in directories and len(directories[directory_number]) > 0:\n",
    "        print(\"На полке есть документа, удалите их перед удалением полки.\", end=' ')\n",
    "        current_directories()\n",
    "    else: \n",
    "        print(\"Такой полки не существует.\", end=' ')\n",
    "        current_directories()"
   ]
  },
  {
   "cell_type": "code",
   "execution_count": 246,
   "metadata": {},
   "outputs": [
    {
     "name": "stdout",
     "output_type": "stream",
     "text": [
      "Введите номер полки: 4\n",
      "Такой полки не существует. Текущий перечень полок: 1,2,3.\n"
     ]
    }
   ],
   "source": [
    "delete_directory()"
   ]
  },
  {
   "cell_type": "code",
   "execution_count": 247,
   "metadata": {},
   "outputs": [],
   "source": [
    "def main():\n",
    "    while True:\n",
    "        comand_name = input(\"Введите команду: \")\n",
    "        if comand_name == 'p':\n",
    "            document_owner()\n",
    "        elif comand_name == 's':\n",
    "            document_directory()\n",
    "        elif comand_name == 'l':\n",
    "            documents_description()\n",
    "        elif comand_name == 'as':\n",
    "            add_directory()\n",
    "        elif comand_name == 'ds':\n",
    "            delete_directory()\n",
    "        elif comand_name == 'q':\n",
    "            break"
   ]
  },
  {
   "cell_type": "code",
   "execution_count": 248,
   "metadata": {},
   "outputs": [
    {
     "name": "stdout",
     "output_type": "stream",
     "text": [
      "Введите команду: as\n",
      "Введите номер полки: 4\n",
      "Полка добавлена. Текущий перечень полок: 1,2,3,4.\n",
      "Введите команду: ds\n",
      "Введите номер полки: 4\n",
      "Полка удалена. Текущий перечень полок: 1,2,3.\n",
      "Введите команду: ds\n",
      "Введите номер полки: 5\n",
      "Такой полки не существует. Текущий перечень полок: 1,2,3.\n",
      "Введите команду: ds\n",
      "Введите номер полки: 1\n",
      "На полке есть документа, удалите их перед удалением полки. Текущий перечень полок: 1,2,3.\n",
      "Введите команду: q\n"
     ]
    }
   ],
   "source": [
    "main()"
   ]
  },
  {
   "cell_type": "markdown",
   "metadata": {},
   "source": [
    "### Задание 2 (необязательное)"
   ]
  },
  {
   "cell_type": "markdown",
   "metadata": {},
   "source": [
    "#### Пункт 1. Пользователь по команде “ad” может добавить новый документ в данные"
   ]
  },
  {
   "cell_type": "code",
   "execution_count": 283,
   "metadata": {},
   "outputs": [],
   "source": [
    "def add_document():\n",
    "    \n",
    "    \"\"\"\n",
    "    Функция позволяет пользователю добавить новый документ по следующий параметрам: номер документа, тип документа, автор документа, номер полки)\n",
    "    \"\"\"\n",
    "    \n",
    "    document_number = input(\"Введите номер документа: \")\n",
    "    document_type = input(\"Введите тип документа: \")\n",
    "    document_autor = input(\"Введите владельца документа: \")\n",
    "    document_directory = input(\"Введите полку для хранения: \")\n",
    "\n",
    "    if document_directory in directories:\n",
    "        new_doc = {'type': document_type, 'number': document_number, 'name': document_autor}\n",
    "        documents.append(new_doc)\n",
    "        directories[document_directory].append(document_number)\n",
    "        print()\n",
    "        print(\"Документ добавлен. Текущий список документов: \")\n",
    "        documents_description()\n",
    "    else:\n",
    "        print()\n",
    "        print(\"Такой полки не существует. Добавьте полку командой as. Текущий список документов: \")\n",
    "        documents_description()\n"
   ]
  },
  {
   "cell_type": "code",
   "execution_count": 300,
   "metadata": {},
   "outputs": [],
   "source": [
    "def main():\n",
    "    \"\"\"\n",
    "    Узнать владельца документа по номеру - p\n",
    "    Узнать полку хранения документа по номеру - s\n",
    "    Получить список документов с описанием - l\n",
    "    Добавить полку хранения - as\n",
    "    Удалить полку хранения - ds\n",
    "    Добавить документ - ad\n",
    "    Выйти - q\n",
    "    \"\"\"\n",
    "    \n",
    "    while True:\n",
    "        comand_name = input(\"Введите команду: \")\n",
    "        if comand_name == 'p':\n",
    "            document_owner()\n",
    "        elif comand_name == 's':\n",
    "            document_directory()\n",
    "        elif comand_name == 'l':\n",
    "            documents_description()\n",
    "        elif comand_name == 'as':\n",
    "            add_directory()\n",
    "        elif comand_name == 'ds':\n",
    "            delete_directory()\n",
    "        elif comand_name == 'ad':\n",
    "            add_document()           \n",
    "        elif comand_name == 'q':\n",
    "            break"
   ]
  },
  {
   "cell_type": "code",
   "execution_count": 299,
   "metadata": {},
   "outputs": [
    {
     "name": "stdout",
     "output_type": "stream",
     "text": [
      "Введите команду: ad\n",
      "Введите номер документа: 121212121\n",
      "Введите тип документа: visa\n",
      "Введите владельца документа: Tatiana\n",
      "Введите полку для хранения: 4\n",
      "\n",
      "Такой полки не существует. Добавьте полку командой as. Текущий список документов: \n",
      "№2207 876234, тип: passport, владелец: Василий Гупкин, полка хранения: 1\n",
      "№11-2, тип: invoice, владелец: Геннадий Покемонов, полка хранения: 1\n",
      "№10006, тип: insurance, владелец: Аристарх Павлов, полка хранения: 2\n",
      "Введите команду: as\n",
      "Введите номер полки: 4\n",
      "Полка добавлена. Текущий перечень полок: 1,2,3,4,q.\n",
      "Введите команду: ad\n",
      "Введите номер документа: 12121211\n",
      "Введите тип документа: visa\n",
      "Введите владельца документа: tatiana\n",
      "Введите полку для хранения: 4\n",
      "\n",
      "Документ добавлен. Текущий список документов: \n",
      "№2207 876234, тип: passport, владелец: Василий Гупкин, полка хранения: 1\n",
      "№11-2, тип: invoice, владелец: Геннадий Покемонов, полка хранения: 1\n",
      "№10006, тип: insurance, владелец: Аристарх Павлов, полка хранения: 2\n",
      "№12121211, тип: visa, владелец: tatiana, полка хранения: 4\n",
      "Введите команду: s\n",
      "Введите номер документа: 12121211\n",
      "Документ хранится на полке: 4\n",
      "Введите команду: p\n",
      "Введите номер документа: 12121211\n",
      "Владелец документа: tatiana\n",
      "Введите команду: q\n"
     ]
    }
   ],
   "source": [
    "main()"
   ]
  },
  {
   "cell_type": "markdown",
   "metadata": {},
   "source": [
    "#### Пункт 2. Пользователь по команде “d” может удалить документ из данных"
   ]
  },
  {
   "cell_type": "code",
   "execution_count": 307,
   "metadata": {},
   "outputs": [],
   "source": [
    "def delete_document():\n",
    "    \n",
    "    \"\"\"\n",
    "    Функция позволяет пользователю документ по его номеру\n",
    "    \"\"\"\n",
    "    \n",
    "    document_num = input(\"Введите номер документа: \")\n",
    "    i = 0\n",
    "   \n",
    "    for document in documents:\n",
    "        if document['number'] == document_num:\n",
    "            documents.remove(document)\n",
    "            i+=1\n",
    "        \n",
    "            for directory in directories.items():\n",
    "                if document_num in directory[1]:\n",
    "                    directory[1].remove(document_num)\n",
    "    if i ==1:\n",
    "        print()\n",
    "        print(\"Документ удален. Текущий список документов: \")\n",
    "        documents_description()\n",
    "\n",
    "    else:\n",
    "        print()\n",
    "        print(\"Документ не найден в базе. Текущий список документов: \")\n",
    "        documents_description()"
   ]
  },
  {
   "cell_type": "code",
   "execution_count": 314,
   "metadata": {},
   "outputs": [
    {
     "name": "stdout",
     "output_type": "stream",
     "text": [
      "Введите номер документа: 34343\n",
      "\n",
      "Документ удален. Текущий список документов: \n",
      "№2207 876234, тип: passport, владелец: Василий Гупкин, полка хранения: 1\n",
      "№11-2, тип: invoice, владелец: Геннадий Покемонов, полка хранения: 1\n",
      "№10006, тип: insurance, владелец: Аристарх Павлов, полка хранения: 2\n"
     ]
    }
   ],
   "source": [
    "delete_document()"
   ]
  },
  {
   "cell_type": "code",
   "execution_count": 318,
   "metadata": {},
   "outputs": [],
   "source": [
    "def main():\n",
    "    \"\"\"\n",
    "    Узнать владельца документа по номеру - p\n",
    "    Узнать полку хранения документа по номеру - s\n",
    "    Получить список документов с описанием - l\n",
    "    Добавить полку хранения - as\n",
    "    Удалить полку хранения - ds\n",
    "    Добавить документ - ad\n",
    "    Удалить документ - d\n",
    "    Выйти - q\n",
    "    \"\"\"\n",
    "    \n",
    "    while True:\n",
    "        comand_name = input(\"Введите команду: \")\n",
    "        if comand_name == 'p':\n",
    "            document_owner()\n",
    "        elif comand_name == 's':\n",
    "            document_directory()\n",
    "        elif comand_name == 'l':\n",
    "            documents_description()\n",
    "        elif comand_name == 'as':\n",
    "            add_directory()\n",
    "        elif comand_name == 'ds':\n",
    "            delete_directory()\n",
    "        elif comand_name == 'ad':\n",
    "            add_document()      \n",
    "        elif comand_name == 'd':\n",
    "            delete_document()                  \n",
    "        elif comand_name == 'q':\n",
    "            break"
   ]
  },
  {
   "cell_type": "code",
   "execution_count": 316,
   "metadata": {},
   "outputs": [
    {
     "name": "stdout",
     "output_type": "stream",
     "text": [
      "Введите команду: s\n",
      "Введите номер документа: 11-2\n",
      "Документ хранится на полке: 1\n",
      "Введите команду: as\n",
      "Введите номер полки: 4\n",
      "Полка добавлена. Текущий перечень полок: 1,2,3,4.\n",
      "Введите команду: ad\n",
      "Введите номер документа: 34\n",
      "Введите тип документа: visa\n",
      "Введите владельца документа: tatiana\n",
      "Введите полку для хранения: 4\n",
      "\n",
      "Документ добавлен. Текущий список документов: \n",
      "№2207 876234, тип: passport, владелец: Василий Гупкин, полка хранения: 1\n",
      "№11-2, тип: invoice, владелец: Геннадий Покемонов, полка хранения: 1\n",
      "№10006, тип: insurance, владелец: Аристарх Павлов, полка хранения: 2\n",
      "№34, тип: visa, владелец: tatiana, полка хранения: 4\n",
      "Введите команду: d\n",
      "Введите номер документа: 33333\n",
      "\n",
      "Документ не найден в базе. Текущий список документов: \n",
      "№2207 876234, тип: passport, владелец: Василий Гупкин, полка хранения: 1\n",
      "№11-2, тип: invoice, владелец: Геннадий Покемонов, полка хранения: 1\n",
      "№10006, тип: insurance, владелец: Аристарх Павлов, полка хранения: 2\n",
      "№34, тип: visa, владелец: tatiana, полка хранения: 4\n",
      "Введите команду: q\n"
     ]
    }
   ],
   "source": [
    "main()"
   ]
  },
  {
   "cell_type": "markdown",
   "metadata": {},
   "source": [
    "#### Пункт 3. Пользователь по команде “m” может переместить документ с полки на полку"
   ]
  },
  {
   "cell_type": "code",
   "execution_count": 323,
   "metadata": {},
   "outputs": [],
   "source": [
    "def document_move():\n",
    "    \"\"\"\n",
    "    Функция позволяет пользователю перемещать документ на указанную полку.\n",
    "    \n",
    "    Пример:\n",
    "    \n",
    "    Введите номер документа:\n",
    "    11-2\n",
    "    Введите номер полки:\n",
    "    10\n",
    "    Результат:\n",
    "    Такой полки не существует. Текущий перечень полок: 1, 2, 3.\n",
    "    \n",
    "    Введите номер документа:\n",
    "    42\n",
    "    Введите номер полки:\n",
    "    2\n",
    "    Результат:\n",
    "    Документ не найден в базе.\n",
    "    Текущий список документов:\n",
    "    №: 2207 876234, тип: passport, владелец: Василий Гупкин, полка хранения: 1\n",
    "    №: 11-2, тип: invoice, владелец: Геннадий Покемонов, полка хранения: 1\n",
    "    №: 10006, тип: insurance, владелец: Аристарх Павлов, полка хранения: 2\n",
    "    \n",
    "    \n",
    "    Введите номер документа:\n",
    "    11-2\n",
    "    Введите номер полки:\n",
    "    3\n",
    "    Результат:\n",
    "\n",
    "    Документ перемещен.\n",
    "    Текущий список документов:\n",
    "    №: 2207 876234, тип: passport, владелец: Василий Гупкин, полка хранения: 1\n",
    "    №: 11-2, тип: invoice, владелец: Геннадий Покемонов, полка хранения: 1\n",
    "    №: 10006, тип: insurance, владелец: Аристарх Павлов, полка хранения: 2\n",
    "    \"\"\"\n",
    "    document_num = input(\"Введите номер документа: \")\n",
    "    directory_number = input(\"Введите номер полки: \")\n",
    "    i = 0 \n",
    "    if directory_number in directories:\n",
    "        i +=1\n",
    "        for directory in directories.items():\n",
    "            if document_num in directory[1]:\n",
    "                directory[1].remove(document_num)\n",
    "                directories[directory_number].append(document_num)\n",
    "                i+=1\n",
    "\n",
    "    if i == 0:\n",
    "        print()\n",
    "        print(\"Такой полки не существует.\")\n",
    "        current_directories()\n",
    "\n",
    "    elif i == 1:\n",
    "        print()\n",
    "        print(\"Документ не найден в базе. Текущий список документов:\")\n",
    "        documents_description()\n",
    "\n",
    "    else:\n",
    "        print()\n",
    "        print(\"Документ перемещен. Текущий список документов: \")\n",
    "        documents_description()"
   ]
  },
  {
   "cell_type": "code",
   "execution_count": 324,
   "metadata": {},
   "outputs": [],
   "source": [
    "def main():\n",
    "    \"\"\"\n",
    "    Узнать владельца документа по номеру - p\n",
    "    Узнать полку хранения документа по номеру - s\n",
    "    Получить список документов с описанием - l\n",
    "    Добавить полку хранения - as\n",
    "    Удалить полку хранения - ds\n",
    "    Добавить документ - ad\n",
    "    Удалить документ - d\n",
    "    Переместить докумнет на другую полку - m\n",
    "    Выйти - q\n",
    "    \"\"\"\n",
    "    \n",
    "    while True:\n",
    "        comand_name = input(\"Введите команду: \")\n",
    "        if comand_name == 'p':\n",
    "            document_owner()\n",
    "        elif comand_name == 's':\n",
    "            document_directory()\n",
    "        elif comand_name == 'l':\n",
    "            documents_description()\n",
    "        elif comand_name == 'as':\n",
    "            add_directory()\n",
    "        elif comand_name == 'ds':\n",
    "            delete_directory()\n",
    "        elif comand_name == 'ad':\n",
    "            add_document()      \n",
    "        elif comand_name == 'd':\n",
    "            delete_document()\n",
    "        elif comand_name == 'm':\n",
    "            document_move() \n",
    "        elif comand_name == 'q':\n",
    "            break"
   ]
  },
  {
   "cell_type": "code",
   "execution_count": 325,
   "metadata": {},
   "outputs": [
    {
     "name": "stdout",
     "output_type": "stream",
     "text": [
      "Введите команду: p\n",
      "Введите номер документа: 34\n",
      "Владелец документа: tatiana\n",
      "Введите команду: s\n",
      "Введите номер документа: 34\n",
      "Документ хранится на полке: 2\n",
      "Введите команду: as\n",
      "Введите номер полки: 5\n",
      "Полка добавлена. Текущий перечень полок: 1,2,3,4,5.\n",
      "Введите команду: ds\n",
      "Введите номер полки: 4\n",
      "Полка удалена. Текущий перечень полок: 1,2,3,5.\n",
      "Введите команду: ad\n",
      "Введите номер документа: 555\n",
      "Введите тип документа: 555555\n",
      "Введите владельца документа: 555555\n",
      "Введите полку для хранения: 4\n",
      "\n",
      "Такой полки не существует. Добавьте полку командой as. Текущий список документов: \n",
      "№2207 876234, тип: passport, владелец: Василий Гупкин, полка хранения: 1\n",
      "№11-2, тип: invoice, владелец: Геннадий Покемонов, полка хранения: 1\n",
      "№10006, тип: insurance, владелец: Аристарх Павлов, полка хранения: 2\n",
      "№34, тип: visa, владелец: tatiana, полка хранения: 2\n",
      "Введите команду: m\n",
      "Введите номер документа: 34\n",
      "Введите номер полки: 3\n",
      "\n",
      "Документ перемещен. Текущий список документов: \n",
      "№2207 876234, тип: passport, владелец: Василий Гупкин, полка хранения: 1\n",
      "№11-2, тип: invoice, владелец: Геннадий Покемонов, полка хранения: 1\n",
      "№10006, тип: insurance, владелец: Аристарх Павлов, полка хранения: 2\n",
      "№34, тип: visa, владелец: tatiana, полка хранения: 3\n",
      "Введите команду: q\n"
     ]
    }
   ],
   "source": [
    "main()"
   ]
  },
  {
   "cell_type": "code",
   "execution_count": null,
   "metadata": {},
   "outputs": [],
   "source": []
  }
 ],
 "metadata": {
  "kernelspec": {
   "display_name": "Python 3",
   "language": "python",
   "name": "python3"
  },
  "language_info": {
   "codemirror_mode": {
    "name": "ipython",
    "version": 3
   },
   "file_extension": ".py",
   "mimetype": "text/x-python",
   "name": "python",
   "nbconvert_exporter": "python",
   "pygments_lexer": "ipython3",
   "version": "3.8.3"
  }
 },
 "nbformat": 4,
 "nbformat_minor": 4
}
