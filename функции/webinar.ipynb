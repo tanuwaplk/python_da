{
 "cells": [
  {
   "cell_type": "markdown",
   "metadata": {},
   "source": [
    "## Перебор элементов словаря"
   ]
  },
  {
   "cell_type": "code",
   "execution_count": 1,
   "metadata": {},
   "outputs": [],
   "source": [
    "\n",
    "staff_dict = {\n",
    "    'Robert': {'salary': 800, 'bonus': 200}, \n",
    "    'Jane': {'salary': 200, 'bonus': 300}, \n",
    "    'Liza': {'salary': 1300, 'bonus': 200}, \n",
    "    'Richard': {'salary': 500, 'bonus': 1200}\n",
    "}"
   ]
  },
  {
   "cell_type": "code",
   "execution_count": 13,
   "metadata": {},
   "outputs": [
    {
     "name": "stdout",
     "output_type": "stream",
     "text": [
      "Robert\n",
      "Jane\n",
      "Liza\n",
      "Richard\n"
     ]
    }
   ],
   "source": [
    "for el in staff_dict:\n",
    "    print(el)"
   ]
  },
  {
   "cell_type": "code",
   "execution_count": 3,
   "metadata": {},
   "outputs": [
    {
     "name": "stdout",
     "output_type": "stream",
     "text": [
      "Robert\n",
      "Jane\n",
      "Liza\n",
      "Richard\n"
     ]
    }
   ],
   "source": [
    "for el in staff_dict.keys():\n",
    "    print(el)"
   ]
  },
  {
   "cell_type": "code",
   "execution_count": 11,
   "metadata": {},
   "outputs": [
    {
     "name": "stdout",
     "output_type": "stream",
     "text": [
      "{'salary': 800, 'bonus': 200}\n",
      "{'salary': 200, 'bonus': 300}\n",
      "{'salary': 1300, 'bonus': 200}\n",
      "{'salary': 500, 'bonus': 1200}\n"
     ]
    }
   ],
   "source": [
    "for el in staff_dict.values():\n",
    "#     print(k, v)\n",
    "#     print(k)\n",
    "#     print(v)\n",
    "    print(el)"
   ]
  },
  {
   "cell_type": "code",
   "execution_count": 5,
   "metadata": {},
   "outputs": [
    {
     "name": "stdout",
     "output_type": "stream",
     "text": [
      "('Robert', {'salary': 800, 'bonus': 200})\n",
      "('Jane', {'salary': 200, 'bonus': 300})\n",
      "('Liza', {'salary': 1300, 'bonus': 200})\n",
      "('Richard', {'salary': 500, 'bonus': 1200})\n"
     ]
    }
   ],
   "source": [
    "for el in staff_dict.items():\n",
    "    print(el)"
   ]
  },
  {
   "cell_type": "code",
   "execution_count": 6,
   "metadata": {},
   "outputs": [
    {
     "name": "stdout",
     "output_type": "stream",
     "text": [
      "Robert\n",
      "{'salary': 800, 'bonus': 200}\n",
      "Jane\n",
      "{'salary': 200, 'bonus': 300}\n",
      "Liza\n",
      "{'salary': 1300, 'bonus': 200}\n",
      "Richard\n",
      "{'salary': 500, 'bonus': 1200}\n"
     ]
    }
   ],
   "source": [
    "for k, v in staff_dict.items():\n",
    "    print(k)\n",
    "    print(v)"
   ]
  },
  {
   "cell_type": "markdown",
   "metadata": {},
   "source": [
    "## Какое-то задание из какого-то ДЗ"
   ]
  },
  {
   "cell_type": "code",
   "execution_count": 14,
   "metadata": {},
   "outputs": [],
   "source": [
    "queries = [\n",
    "    'смотреть сериалы онлайн',\n",
    "    'новости спорта',\n",
    "    'афиша кино',\n",
    "    'курс доллара',\n",
    "    'сериалы этим летом',\n",
    "    'курс по питону',\n",
    "    'сериалы про спорт',\n",
    "]"
   ]
  },
  {
   "cell_type": "code",
   "execution_count": 15,
   "metadata": {},
   "outputs": [],
   "source": [
    "res = {}"
   ]
  },
  {
   "cell_type": "code",
   "execution_count": 22,
   "metadata": {},
   "outputs": [
    {
     "name": "stdout",
     "output_type": "stream",
     "text": [
      "смотреть сериалы онлайн\n",
      "новости спорта\n",
      "афиша кино\n",
      "курс доллара\n",
      "сериалы этим летом\n",
      "курс по питону\n",
      "сериалы про спорт\n"
     ]
    },
    {
     "data": {
      "text/plain": [
       "{3: 5, 2: 4}"
      ]
     },
     "execution_count": 22,
     "metadata": {},
     "output_type": "execute_result"
    }
   ],
   "source": [
    "for query in queries:\n",
    "    print(query)\n",
    "    q_len = len(query.split())\n",
    "#     print(q_len)\n",
    "    if q_len not in res:\n",
    "        res[q_len] = 1\n",
    "    else:\n",
    "        ...\n",
    "    \n",
    "res"
   ]
  },
  {
   "cell_type": "markdown",
   "metadata": {},
   "source": [
    "# Задача про ROI"
   ]
  },
  {
   "cell_type": "code",
   "execution_count": 28,
   "metadata": {},
   "outputs": [],
   "source": [
    "results = {\n",
    "    'vk': {'revenue': 103, 'cost': 98},\n",
    "    'yandex': {'revenue': 179, 'cost': 153},\n",
    "    'facebook': {'revenue': 103, 'cost': 110},\n",
    "    'adwords': {'revenue': 35, 'cost': 34},\n",
    "    'twitter': {'revenue': 11, 'cost': 24},\n",
    "}"
   ]
  },
  {
   "cell_type": "code",
   "execution_count": 29,
   "metadata": {},
   "outputs": [
    {
     "data": {
      "text/plain": [
       "{'vk': {'revenue': 103, 'cost': 98, 'dream_revenue': 103000000},\n",
       " 'yandex': {'revenue': 179, 'cost': 153, 'dream_revenue': 179000000},\n",
       " 'facebook': {'revenue': 103, 'cost': 110, 'dream_revenue': 103000000},\n",
       " 'adwords': {'revenue': 35, 'cost': 34, 'dream_revenue': 35000000},\n",
       " 'twitter': {'revenue': 11, 'cost': 24, 'dream_revenue': 11000000}}"
      ]
     },
     "execution_count": 29,
     "metadata": {},
     "output_type": "execute_result"
    }
   ],
   "source": [
    "for info in results.values():\n",
    "#     print(info)\n",
    "    info['dream_revenue'] = info['revenue'] * 1000000\n",
    "    \n",
    "results"
   ]
  },
  {
   "cell_type": "markdown",
   "metadata": {},
   "source": [
    "# Задача с вложенными словарями из списка"
   ]
  },
  {
   "cell_type": "code",
   "execution_count": 32,
   "metadata": {},
   "outputs": [],
   "source": [
    "a = ['2018-01-01', 'yandex', 'cpc', 100]\n",
    "#  {'2018-01-01': {'yandex': {'cpc': 100}}}"
   ]
  },
  {
   "cell_type": "code",
   "execution_count": 33,
   "metadata": {},
   "outputs": [],
   "source": [
    "some_var = a[-1]"
   ]
  },
  {
   "cell_type": "code",
   "execution_count": 37,
   "metadata": {},
   "outputs": [
    {
     "data": {
      "text/plain": [
       "{'2018-01-01': {'yandex': {'cpc': {'2018-01-01': {'yandex': {'cpc': 100}}}}}}"
      ]
     },
     "execution_count": 37,
     "metadata": {},
     "output_type": "execute_result"
    }
   ],
   "source": [
    "for el in a[-2::-1]:\n",
    "    some_var = {el: some_var}\n",
    "    \n",
    "some_var"
   ]
  },
  {
   "cell_type": "markdown",
   "metadata": {},
   "source": [
    "# Напишите функцию, которая определяет является ли слово палиндромом"
   ]
  },
  {
   "cell_type": "code",
   "execution_count": 39,
   "metadata": {},
   "outputs": [],
   "source": [
    "def pal(string): \n",
    "    s1 = string[len(string)//2+1:] \n",
    "    s2 = string[:len(string)//2+1] \n",
    "    if s1 == s2:\n",
    "        print(\"палендром\")\n",
    "pal('радар')"
   ]
  },
  {
   "cell_type": "code",
   "execution_count": 48,
   "metadata": {},
   "outputs": [
    {
     "data": {
      "text/plain": [
       "True"
      ]
     },
     "execution_count": 48,
     "metadata": {},
     "output_type": "execute_result"
    }
   ],
   "source": [
    "def palindrom(word):\n",
    "    word = word.lower()\n",
    "    word_reverse = word[::-1] \n",
    "    return word == word_reverse\n",
    "\n",
    "palindrom('Радар')"
   ]
  },
  {
   "cell_type": "code",
   "execution_count": 44,
   "metadata": {},
   "outputs": [
    {
     "name": "stdout",
     "output_type": "stream",
     "text": [
      "Радар\n",
      "false\n"
     ]
    }
   ],
   "source": [
    "slovo = input() \n",
    "if slovo == slovo[::-1]: \n",
    "    print(\"true\") \n",
    "else: \n",
    "    print(\"false\")"
   ]
  },
  {
   "cell_type": "code",
   "execution_count": 51,
   "metadata": {},
   "outputs": [
    {
     "data": {
      "text/plain": [
       "True"
      ]
     },
     "execution_count": 51,
     "metadata": {},
     "output_type": "execute_result"
    }
   ],
   "source": [
    "def is_palindrom(word): \n",
    "    return word.lower() == word[::-1].lower()\n",
    "\n",
    "is_palindrom('радар')"
   ]
  },
  {
   "cell_type": "markdown",
   "metadata": {},
   "source": [
    "# Args. Напишите функцию, которая будет находить среднюю цену на квартиры по всем данным"
   ]
  },
  {
   "cell_type": "code",
   "execution_count": 60,
   "metadata": {},
   "outputs": [],
   "source": [
    "dict_1 = {'flat_1': 10500, 'flat_2': 11000}\n",
    "dict_2 = {'flat_3': 15000}\n",
    "dict_3 = {'flat_4': 6500, 'flat_5': 7000, 'flat_6': 6000}"
   ]
  },
  {
   "cell_type": "code",
   "execution_count": 63,
   "metadata": {},
   "outputs": [
    {
     "data": {
      "text/plain": [
       "9333.333333333334"
      ]
     },
     "execution_count": 63,
     "metadata": {},
     "output_type": "execute_result"
    }
   ],
   "source": [
    "def mean_flat_price(*districts):\n",
    "    prices = 0\n",
    "    count = 0\n",
    "    for flats in districts:\n",
    "        prices += sum(flats.values())\n",
    "        count += len(flats.values())\n",
    "    return prices / count\n",
    "    \n",
    "mean_flat_price(dict_1, dict_3, dict_2)"
   ]
  },
  {
   "cell_type": "code",
   "execution_count": null,
   "metadata": {},
   "outputs": [],
   "source": [
    "def av_price(*args): \n",
    "    total_sum = 0\n",
    "    total_num = 0 \n",
    "    for district in args: \n",
    "        total_sum += sum(district.values()) \n",
    "        total_num += len(district.values()) \n",
    "    return total_sum / total_num"
   ]
  },
  {
   "cell_type": "code",
   "execution_count": 73,
   "metadata": {},
   "outputs": [],
   "source": [
    "# def searcher(*args): \n",
    "#     a = [] \n",
    "#     for neighbour in args: \n",
    "#         for house in neighbour.values(): \n",
    "#             a.append(neighbour[house]) \n",
    "#         return sum(a) \n",
    "\n",
    "# searcher(dict_1, dict_2, dict_3)"
   ]
  },
  {
   "cell_type": "code",
   "execution_count": 64,
   "metadata": {},
   "outputs": [],
   "source": [
    "students_list = [\n",
    "    {\"name\": \"Василий\", \"surname\": \"Теркин\", \"gender\": \"м\", \"program_exp\": True, \"grade\": [8, 8, 9, 10, 9], \"exam\": 8},\n",
    "    {\"name\": \"Мария\", \"surname\": \"Павлова\", \"gender\": \"ж\", \"program_exp\": True, \"grade\": [7, 8, 9, 7, 9], \"exam\": 9},\n",
    "    {\"name\": \"Ирина\", \"surname\": \"Андреева\", \"gender\": \"ж\", \"program_exp\": False, \"grade\": [10, 9, 8, 10, 10], \"exam\": 7},\n",
    "    {\"name\": \"Татьяна\", \"surname\": \"Сидорова\", \"gender\": \"ж\", \"program_exp\": False, \"grade\": [7, 8, 8, 9, 8],\"exam\": 10},\n",
    "    {\"name\": \"Иван\", \"surname\": \"Васильев\", \"gender\": \"м\", \"program_exp\": True, \"grade\": [9, 8, 9, 6, 9], \"exam\": 5},\n",
    "    {\"name\": \"Роман\", \"surname\": \"Золотарев\", \"gender\": \"м\", \"program_exp\": False, \"grade\": [8, 9, 9, 6, 9], \"exam\": 6}\n",
    "]"
   ]
  },
  {
   "cell_type": "code",
   "execution_count": 71,
   "metadata": {},
   "outputs": [],
   "source": [
    "# функция считает среднюю оценку за экзамен по группе студентов\n",
    "def get_avg_ex_grade(students):\n",
    "    sum_ex = 0\n",
    "    for student in students:\n",
    "#         print(student)\n",
    "        sum_ex += student['exam']\n",
    "    return round(sum_ex / len(students), 2)\n",
    "\n",
    "get_avg_ex_grade(students_list)"
   ]
  },
  {
   "cell_type": "code",
   "execution_count": 84,
   "metadata": {},
   "outputs": [
    {
     "name": "stdout",
     "output_type": "stream",
     "text": [
      "8.43\n",
      "8.4\n",
      "8.47\n"
     ]
    }
   ],
   "source": [
    "def get_avg_hw_grade(students, gender=None, exp=None):\n",
    "    sum_hw = 0\n",
    "    counter = 0\n",
    "    for student in students:\n",
    "        if (student['gender'] == gender and student['program_exp'] == exp) or \\\n",
    "            (student['gender'] == gender and exp is None) or \\\n",
    "            (student['program_exp'] == exp and gender is None) or \\\n",
    "            (exp is None and gender is None):\n",
    "                sum_hw += sum(student['grade']) / len(student['grade'])\n",
    "                counter += 1\n",
    "    return round(sum_hw / counter, 2)\n",
    "\n",
    "print(get_avg_hw_grade(students_list))\n",
    "print(get_avg_hw_grade(students_list, 'м'))\n",
    "print(get_avg_hw_grade(students_list, 'ж'))"
   ]
  },
  {
   "cell_type": "code",
   "execution_count": 85,
   "metadata": {},
   "outputs": [
    {
     "name": "stdout",
     "output_type": "stream",
     "text": [
      "8.43\n",
      "8.53\n",
      "8.33\n"
     ]
    }
   ],
   "source": [
    "print(get_avg_hw_grade(students_list))\n",
    "print(get_avg_hw_grade(students_list, exp=False))\n",
    "print(get_avg_hw_grade(students_list, exp=True))"
   ]
  },
  {
   "cell_type": "code",
   "execution_count": 90,
   "metadata": {},
   "outputs": [
    {
     "name": "stdout",
     "output_type": "stream",
     "text": [
      "8.2\n",
      "8.5\n"
     ]
    }
   ],
   "source": [
    "print(get_avg_hw_grade(students_list, 'м', exp=False))\n",
    "print(get_avg_hw_grade(students_list, 'м', exp=True))"
   ]
  },
  {
   "cell_type": "code",
   "execution_count": 93,
   "metadata": {},
   "outputs": [],
   "source": [
    "def main(students):\n",
    "    while True:\n",
    "        user_input = input('Введите команду')\n",
    "        if user_input == '1':\n",
    "            print(get_avg_ex_grade(students))\n",
    "        elif user_input == '2':\n",
    "            print(get_avg_hw_grade(students))\n",
    "        elif user_input == '3':\n",
    "            print(get_avg_hw_grade(students, exp=False))\n",
    "        elif user_input == 'q':\n",
    "            print('До свидания!')\n",
    "            break"
   ]
  },
  {
   "cell_type": "code",
   "execution_count": 94,
   "metadata": {},
   "outputs": [
    {
     "name": "stdout",
     "output_type": "stream",
     "text": [
      "Введите команду1\n",
      "7.5\n",
      "Введите команду2\n",
      "8.43\n",
      "Введите команду3\n",
      "8.53\n",
      "Введите командуq\n",
      "До свидания!\n"
     ]
    }
   ],
   "source": [
    "main(students_list)"
   ]
  },
  {
   "cell_type": "code",
   "execution_count": 96,
   "metadata": {},
   "outputs": [],
   "source": [
    "students_list = [\n",
    "    {\"name\": \"Василий\", \"surname\": \"Теркин\", \"gender\": \"м\", \"program_exp\": True, \"grade\": [8, 8, 9, 10, 9], \"exam\": 8},\n",
    "    {\"name\": \"Мария\", \"surname\": \"Павлова\", \"gender\": \"ж\", \"program_exp\": True, \"grade\": [7, 8, 9, 7, 9], \"exam\": 9},\n",
    "    {\"name\": \"Ирина\", \"surname\": \"Андреева\", \"gender\": \"ж\", \"program_exp\": False, \"grade\": [10, 9, 8, 10, 10], \"exam\": 7},\n",
    "    {\"name\": \"Татьяна\", \"surname\": \"Сидорова\", \"gender\": \"ж\", \"program_exp\": False, \"grade\": [7, 8, 8, 9, 8],\"exam\": 10},\n",
    "    {\"name\": \"Иван\", \"surname\": \"Васильев\", \"gender\": \"м\", \"program_exp\": True, \"grade\": [9, 8, 9, 6, 9], \"exam\": 5},\n",
    "    {\"name\": \"Роман\", \"surname\": \"Золотарев\", \"gender\": \"м\", \"program_exp\": False, \"grade\": [8, 9, 9, 6, 9], \"exam\": 6}\n",
    "]"
   ]
  },
  {
   "cell_type": "code",
   "execution_count": 97,
   "metadata": {},
   "outputs": [
    {
     "name": "stdout",
     "output_type": "stream",
     "text": [
      "ФИО: Василий Теркин, его оценка за экзамен: 8\n",
      "ФИО: Мария Павлова, его оценка за экзамен: 9\n",
      "ФИО: Ирина Андреева, его оценка за экзамен: 7\n",
      "ФИО: Татьяна Сидорова, его оценка за экзамен: 10\n",
      "ФИО: Иван Васильев, его оценка за экзамен: 5\n",
      "ФИО: Роман Золотарев, его оценка за экзамен: 6\n"
     ]
    }
   ],
   "source": [
    "for student in students_list:\n",
    "    print(f'ФИО: {student[\"name\"]} {student[\"surname\"]}, его оценка за экзамен: {student[\"exam\"]}')"
   ]
  },
  {
   "cell_type": "code",
   "execution_count": null,
   "metadata": {},
   "outputs": [],
   "source": []
  }
 ],
 "metadata": {
  "kernelspec": {
   "display_name": "Python 3",
   "language": "python",
   "name": "python3"
  },
  "language_info": {
   "codemirror_mode": {
    "name": "ipython",
    "version": 3
   },
   "file_extension": ".py",
   "mimetype": "text/x-python",
   "name": "python",
   "nbconvert_exporter": "python",
   "pygments_lexer": "ipython3",
   "version": "3.8.3"
  }
 },
 "nbformat": 4,
 "nbformat_minor": 4
}
