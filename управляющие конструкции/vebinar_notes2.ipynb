{
 "cells": [
  {
   "cell_type": "markdown",
   "metadata": {},
   "source": [
    "Преобразовываем словарь во множество"
   ]
  },
  {
   "cell_type": "code",
   "execution_count": 11,
   "metadata": {},
   "outputs": [
    {
     "data": {
      "text/plain": [
       "{123456, 654321, 777777, 'id1', 'id2', 'id3'}"
      ]
     },
     "execution_count": 11,
     "metadata": {},
     "output_type": "execute_result"
    }
   ],
   "source": [
    "my_dict = {\n",
    "    'id1': 654321, \n",
    "    'id2': 123456, \n",
    "    'id3': 777777\n",
    "}\n",
    "\n",
    "my_set = set()\n",
    "for key, values in my_dict.items():\n",
    "    my_set.add(key)\n",
    "    my_set.add(values)\n",
    "my_set"
   ]
  },
  {
   "cell_type": "markdown",
   "metadata": {},
   "source": [
    "Ошибка с преобразованием типов"
   ]
  },
  {
   "cell_type": "code",
   "execution_count": 15,
   "metadata": {},
   "outputs": [
    {
     "name": "stdout",
     "output_type": "stream",
     "text": [
      "Введите день30\n",
      "Введите месяцАвгуст\n",
      "Знак зодиака:Дева\n"
     ]
    }
   ],
   "source": [
    "\n",
    "date = int(input('Введите день'))\n",
    "month = input('Введите месяц')\n",
    "if (date >= 23 and date <= 31 and month == 'Август'): \n",
    "#or( month == 9 and date >= 1 and date <= 22):\n",
    "  print(\"Знак зодиака:Дева\")"
   ]
  },
  {
   "cell_type": "markdown",
   "metadata": {},
   "source": [
    "ДЗ УКиК п.5."
   ]
  },
  {
   "cell_type": "code",
   "execution_count": 16,
   "metadata": {},
   "outputs": [],
   "source": [
    "stream = [ '2018-01-01,user1,3', '2018-01-07,user1,4', '2018-03-29,user1,1', '2018-04-04,user1,13', '2018-01-05,user2,7', '2018-06-14,user3,4', '2018-07-02,user3,10', '2018-03-21,user4,19', '2018-03-22,user4,4', '2018-04-22,user4,8', '2018-05-03,user4,9', '2018-05-11,user4,11', ]"
   ]
  },
  {
   "cell_type": "code",
   "execution_count": 18,
   "metadata": {},
   "outputs": [],
   "source": [
    "user_list = []\n",
    "views = 0"
   ]
  },
  {
   "cell_type": "code",
   "execution_count": 19,
   "metadata": {},
   "outputs": [
    {
     "name": "stdout",
     "output_type": "stream",
     "text": [
      "['2018-01-01', 'user1', '3']\n",
      "['2018-01-07', 'user1', '4']\n",
      "['2018-03-29', 'user1', '1']\n",
      "['2018-04-04', 'user1', '13']\n",
      "['2018-01-05', 'user2', '7']\n",
      "['2018-06-14', 'user3', '4']\n",
      "['2018-07-02', 'user3', '10']\n",
      "['2018-03-21', 'user4', '19']\n",
      "['2018-03-22', 'user4', '4']\n",
      "['2018-04-22', 'user4', '8']\n",
      "['2018-05-03', 'user4', '9']\n",
      "['2018-05-11', 'user4', '11']\n"
     ]
    }
   ],
   "source": [
    "for el in stream:\n",
    "    splitted_el = el.split(',')\n",
    "#     print(splitted_el)\n",
    "    if splitted_el[1] not in user_list:\n",
    "        ...\n",
    "        "
   ]
  },
  {
   "cell_type": "markdown",
   "metadata": {},
   "source": [
    "ДЗ УКиК п.6."
   ]
  },
  {
   "cell_type": "code",
   "execution_count": 21,
   "metadata": {},
   "outputs": [
    {
     "name": "stdout",
     "output_type": "stream",
     "text": [
      "Введите числа через пробел1 2 3 4 5 5 5 5\n",
      "['1', '2', '3', '4', '5', '5', '5', '5']\n"
     ]
    }
   ],
   "source": [
    "numbers = input('Введите числа через пробел').split()\n",
    "\n",
    "res = []\n",
    "\n",
    "for num in numbers:\n",
    "    if numbers.count(num) > 1 and not in res:\n",
    "        ...\n"
   ]
  },
  {
   "cell_type": "markdown",
   "metadata": {},
   "source": [
    "Изменяемые и неизменяемые типы"
   ]
  },
  {
   "cell_type": "code",
   "execution_count": 30,
   "metadata": {},
   "outputs": [],
   "source": [
    "boys = ['John', 'James', 'Robert']\n",
    "girls = ['Linda', 'Jane', 'Kate']"
   ]
  },
  {
   "cell_type": "code",
   "execution_count": 27,
   "metadata": {},
   "outputs": [
    {
     "name": "stdout",
     "output_type": "stream",
     "text": [
      "None\n"
     ]
    }
   ],
   "source": [
    "# girls.sort()\n",
    "print(girls.sort())\n",
    "# print(girls)"
   ]
  },
  {
   "cell_type": "code",
   "execution_count": 31,
   "metadata": {},
   "outputs": [
    {
     "name": "stdout",
     "output_type": "stream",
     "text": [
      "['Jane', 'Kate', 'Linda']\n",
      "['Linda', 'Jane', 'Kate']\n"
     ]
    }
   ],
   "source": [
    "# sorted(girls)\n",
    "new_list = sorted(girls)\n",
    "print(new_list)\n",
    "print(girls)"
   ]
  },
  {
   "cell_type": "code",
   "execution_count": 33,
   "metadata": {},
   "outputs": [],
   "source": [
    "string = 'My text'"
   ]
  },
  {
   "cell_type": "code",
   "execution_count": 34,
   "metadata": {},
   "outputs": [
    {
     "name": "stdout",
     "output_type": "stream",
     "text": [
      "my text\n",
      "My text\n"
     ]
    }
   ],
   "source": [
    "new_string = string.lower()\n",
    "print(new_string)\n",
    "print(string)"
   ]
  },
  {
   "cell_type": "code",
   "execution_count": 35,
   "metadata": {},
   "outputs": [
    {
     "data": {
      "text/plain": [
       "'my text'"
      ]
     },
     "execution_count": 35,
     "metadata": {},
     "output_type": "execute_result"
    }
   ],
   "source": [
    "string.lower()"
   ]
  },
  {
   "cell_type": "markdown",
   "metadata": {},
   "source": [
    "Сортировка словарей"
   ]
  },
  {
   "cell_type": "code",
   "execution_count": 39,
   "metadata": {},
   "outputs": [],
   "source": [
    "my_dict = {\n",
    "    'id1': 654321, \n",
    "    'id3': 123456, \n",
    "    'id2': 777777\n",
    "}"
   ]
  },
  {
   "cell_type": "code",
   "execution_count": 41,
   "metadata": {},
   "outputs": [
    {
     "data": {
      "text/plain": [
       "['id3', 'id2', 'id1']"
      ]
     },
     "execution_count": 41,
     "metadata": {},
     "output_type": "execute_result"
    }
   ],
   "source": [
    "sorted(my_dict, reverse=True)"
   ]
  },
  {
   "cell_type": "code",
   "execution_count": 42,
   "metadata": {},
   "outputs": [
    {
     "data": {
      "text/plain": [
       "[777777, 654321, 123456]"
      ]
     },
     "execution_count": 42,
     "metadata": {},
     "output_type": "execute_result"
    }
   ],
   "source": [
    "sorted(my_dict.values(), reverse=True)"
   ]
  },
  {
   "cell_type": "code",
   "execution_count": 44,
   "metadata": {},
   "outputs": [
    {
     "data": {
      "text/plain": [
       "{'id3': 123456, 'id1': 654321, 'id2': 777777}"
      ]
     },
     "execution_count": 44,
     "metadata": {},
     "output_type": "execute_result"
    }
   ],
   "source": [
    "dict(sorted(my_dict.items(), key=lambda kv: kv[1]))"
   ]
  },
  {
   "cell_type": "markdown",
   "metadata": {},
   "source": [
    "Удалим из словаря все пустые элементы (со значением None)"
   ]
  },
  {
   "cell_type": "code",
   "execution_count": 45,
   "metadata": {},
   "outputs": [],
   "source": [
    "my_dict = {\n",
    "    'id1': 123456, \n",
    "    'id2': 654321, \n",
    "    'id3': None,\n",
    "    'id4': 777777\n",
    "}"
   ]
  },
  {
   "cell_type": "code",
   "execution_count": 50,
   "metadata": {},
   "outputs": [
    {
     "data": {
      "text/plain": [
       "{'id1': 123456, 'id2': 654321, 'id4': 777777}"
      ]
     },
     "execution_count": 50,
     "metadata": {},
     "output_type": "execute_result"
    }
   ],
   "source": [
    "res = {}\n",
    "\n",
    "for key, value in my_dict.items():\n",
    "    if value:\n",
    "        res[key] = value\n",
    "\n",
    "res"
   ]
  },
  {
   "cell_type": "code",
   "execution_count": 51,
   "metadata": {},
   "outputs": [
    {
     "data": {
      "text/plain": [
       "{'id1': 123456, 'id2': 654321, 'id4': 777777}"
      ]
     },
     "execution_count": 51,
     "metadata": {},
     "output_type": "execute_result"
    }
   ],
   "source": [
    "{key: value for key, value in my_dict.items() if value}"
   ]
  },
  {
   "cell_type": "markdown",
   "metadata": {},
   "source": [
    "Дан список с визитами по городам и странам. \n",
    "Напишите код, который возвращает отфильтрованный список geo_logs, содержащий только визиты из России."
   ]
  },
  {
   "cell_type": "code",
   "execution_count": 53,
   "metadata": {},
   "outputs": [],
   "source": [
    "geo_logs = [\n",
    "    {'visit1': ['Москва', 'Россия']},\n",
    "    {'visit2': ['Дели', 'Индия']},\n",
    "    {'visit3': ['Владимир', 'Россия']},\n",
    "    {'visit4': ['Лиссабон', 'Португалия']},\n",
    "    {'visit5': ['Париж', 'Франция']},\n",
    "    {'visit6': ['Лиссабон', 'Португалия']},\n",
    "    {'visit7': ['Тула', 'Россия']},\n",
    "    {'visit8': ['Тула', 'Россия']},\n",
    "    {'visit9': ['Курск', 'Россия']},\n",
    "    {'visit10': ['Архангельск', 'Россия']}\n",
    "]"
   ]
  },
  {
   "cell_type": "code",
   "execution_count": 54,
   "metadata": {},
   "outputs": [
    {
     "data": {
      "text/plain": [
       "[{'visit1': ['Москва', 'Россия']},\n",
       " {'visit3': ['Владимир', 'Россия']},\n",
       " {'visit5': ['Париж', 'Франция']},\n",
       " {'visit7': ['Тула', 'Россия']},\n",
       " {'visit8': ['Тула', 'Россия']},\n",
       " {'visit9': ['Курск', 'Россия']},\n",
       " {'visit10': ['Архангельск', 'Россия']}]"
      ]
     },
     "execution_count": 54,
     "metadata": {},
     "output_type": "execute_result"
    }
   ],
   "source": [
    "for log in geo_logs:\n",
    "    for el in log.values():\n",
    "        if el[1] != 'Россия':\n",
    "            geo_logs.remove(log)\n",
    "geo_logs  \n",
    "\n",
    "# вариант плохой, т.к. есть вложенный цикл и нельзя менять длину объекта при итерации по нему"
   ]
  },
  {
   "cell_type": "code",
   "execution_count": 56,
   "metadata": {},
   "outputs": [
    {
     "data": {
      "text/plain": [
       "[{'visit1': ['Москва', 'Россия']},\n",
       " {'visit3': ['Владимир', 'Россия']},\n",
       " {'visit7': ['Тула', 'Россия']},\n",
       " {'visit8': ['Тула', 'Россия']},\n",
       " {'visit9': ['Курск', 'Россия']},\n",
       " {'visit10': ['Архангельск', 'Россия']}]"
      ]
     },
     "execution_count": 56,
     "metadata": {},
     "output_type": "execute_result"
    }
   ],
   "source": [
    "result = []\n",
    "for log in geo_logs:\n",
    "    for el in log.values():\n",
    "        if el[1] == 'Россия':\n",
    "            result.append(log)\n",
    "result\n"
   ]
  },
  {
   "cell_type": "code",
   "execution_count": 63,
   "metadata": {},
   "outputs": [
    {
     "name": "stdout",
     "output_type": "stream",
     "text": [
      "['Москва', 'Россия']\n",
      "['Владимир', 'Россия']\n",
      "['Тула', 'Россия']\n",
      "['Тула', 'Россия']\n",
      "['Курск', 'Россия']\n",
      "['Архангельск', 'Россия']\n"
     ]
    },
    {
     "data": {
      "text/plain": [
       "[{'visit1': ['Москва', 'Россия']},\n",
       " {'visit3': ['Владимир', 'Россия']},\n",
       " {'visit7': ['Тула', 'Россия']},\n",
       " {'visit8': ['Тула', 'Россия']},\n",
       " {'visit9': ['Курск', 'Россия']},\n",
       " {'visit10': ['Архангельск', 'Россия']}]"
      ]
     },
     "execution_count": 63,
     "metadata": {},
     "output_type": "execute_result"
    }
   ],
   "source": [
    "result = []\n",
    "for log in geo_logs:\n",
    "#     print(list(log.values())[0])\n",
    "    if 'Россия' in list(log.values())[0]:\n",
    "        result.append(log)\n",
    "result"
   ]
  },
  {
   "cell_type": "code",
   "execution_count": 59,
   "metadata": {},
   "outputs": [
    {
     "data": {
      "text/plain": [
       "[{'visit1': ['Москва', 'Россия']},\n",
       " {'visit3': ['Владимир', 'Россия']},\n",
       " {'visit7': ['Тула', 'Россия']},\n",
       " {'visit8': ['Тула', 'Россия']},\n",
       " {'visit9': ['Курск', 'Россия']},\n",
       " {'visit10': ['Архангельск', 'Россия']}]"
      ]
     },
     "execution_count": 59,
     "metadata": {},
     "output_type": "execute_result"
    }
   ],
   "source": [
    "geo_logs_2 = geo_logs.copy()\n",
    "\n",
    "for log in geo_logs_2:\n",
    "    if 'Россия' not in list(log.values())[0]:\n",
    "        geo_logs.remove(log)\n",
    "\n",
    "geo_logs"
   ]
  },
  {
   "cell_type": "markdown",
   "metadata": {},
   "source": [
    "Посчитайте сколько раз каждое слово встречалось в тексте   \n",
    "Вывести в формате: \"слово\": \"количество вхождений\"\n",
    "\n",
    "За разделитель считаем пробел, все слова приводим к нижнему регистру"
   ]
  },
  {
   "cell_type": "code",
   "execution_count": 74,
   "metadata": {},
   "outputs": [],
   "source": [
    "some_oxy_text = '''\n",
    "Весь мой рэп, если коротко, про то, что\n",
    "Уж который год который город под подошвой\n",
    "В гору, когда прет. Потом под гору, когда тошно\n",
    "Я не то, что Гулливер, но все же город под подошвой\n",
    "Город под подошвой, город под подошвой\n",
    "Светофоры, госпошлины, сборы и таможни\n",
    "Я не знаю, вброд или на дно эта дорожка\n",
    "Ты живешь под каблуком, у меня - город под подошвой\n",
    "'''"
   ]
  },
  {
   "cell_type": "code",
   "execution_count": 75,
   "metadata": {},
   "outputs": [],
   "source": [
    "res = {}"
   ]
  },
  {
   "cell_type": "code",
   "execution_count": 80,
   "metadata": {},
   "outputs": [
    {
     "name": "stdout",
     "output_type": "stream",
     "text": [
      "Слово \"\n",
      "весь\" повторяется 5 раз\n",
      "Слово \"мой\" повторяется 5 раз\n",
      "Слово \"рэп\" повторяется 5 раз\n",
      "Слово \"если\" повторяется 5 раз\n",
      "Слово \"коротко\" повторяется 5 раз\n",
      "Слово \"про\" повторяется 5 раз\n",
      "Слово \"то\" повторяется 10 раз\n",
      "Слово \"что\n",
      "уж\" повторяется 5 раз\n",
      "Слово \"который\" повторяется 10 раз\n",
      "Слово \"год\" повторяется 5 раз\n",
      "Слово \"город\" повторяется 20 раз\n",
      "Слово \"под\" повторяется 35 раз\n",
      "Слово \"подошвой\n",
      "в\" повторяется 5 раз\n",
      "Слово \"гору\" повторяется 10 раз\n",
      "Слово \"когда\" повторяется 10 раз\n",
      "Слово \"прет\" повторяется 5 раз\n",
      "Слово \"потом\" повторяется 5 раз\n",
      "Слово \"тошно\n",
      "я\" повторяется 5 раз\n",
      "Слово \"не\" повторяется 10 раз\n",
      "Слово \"что\" повторяется 5 раз\n",
      "Слово \"гулливер\" повторяется 5 раз\n",
      "Слово \"но\" повторяется 5 раз\n",
      "Слово \"все\" повторяется 5 раз\n",
      "Слово \"же\" повторяется 5 раз\n",
      "Слово \"подошвой\n",
      "город\" повторяется 5 раз\n",
      "Слово \"подошвой\" повторяется 5 раз\n",
      "Слово \"подошвой\n",
      "светофоры\" повторяется 5 раз\n",
      "Слово \"госпошлины\" повторяется 5 раз\n",
      "Слово \"сборы\" повторяется 5 раз\n",
      "Слово \"и\" повторяется 5 раз\n",
      "Слово \"таможни\n",
      "я\" повторяется 5 раз\n",
      "Слово \"знаю\" повторяется 5 раз\n",
      "Слово \"вброд\" повторяется 5 раз\n",
      "Слово \"или\" повторяется 5 раз\n",
      "Слово \"на\" повторяется 5 раз\n",
      "Слово \"дно\" повторяется 5 раз\n",
      "Слово \"эта\" повторяется 5 раз\n",
      "Слово \"дорожка\n",
      "ты\" повторяется 5 раз\n",
      "Слово \"живешь\" повторяется 5 раз\n",
      "Слово \"каблуком\" повторяется 5 раз\n",
      "Слово \"у\" повторяется 5 раз\n",
      "Слово \"меня\" повторяется 5 раз\n",
      "Слово \"\" повторяется 5 раз\n",
      "Слово \"подошвой\n",
      "\" повторяется 5 раз\n"
     ]
    }
   ],
   "source": [
    "splitted_text = some_oxy_text.lower().replace('-', '').replace(',', '').replace('.', '').split(' ')\n",
    "for word in splitted_text:\n",
    "    if word not in res:\n",
    "        res[word] = 1\n",
    "    else:\n",
    "        res[word] += 1\n",
    "# print(res)        \n",
    "# for word, count in sorted(res.items(), reverse=True, key=lambda val: val[1]):\n",
    "#     print(f'Слово \"{word}\" повторяется {count} раз')\n",
    "    \n",
    "for word, count in res.items():\n",
    "    print(f'Слово \"{word}\" повторяется {count} раз')"
   ]
  },
  {
   "cell_type": "code",
   "execution_count": 81,
   "metadata": {},
   "outputs": [
    {
     "name": "stdout",
     "output_type": "stream",
     "text": [
      "{'весь': 1, 'мой': 1, 'рэп': 1, 'если': 1, 'коротко': 1, 'про': 1, 'то': 2, 'что': 2, 'уж': 1, 'который': 2, 'год': 1, 'город': 5, 'под': 7, 'подошвой': 5, 'в': 1, 'гору': 2, 'когда': 2, 'прет.': 1, 'потом': 1, 'тошно': 1, 'я': 2, 'не': 2, 'гулливер': 1, 'но': 1, 'все': 1, 'же': 1, 'светофоры': 1, 'госпошлины': 1, 'сборы': 1, 'и': 1, 'таможни': 1, 'знаю': 1, 'вброд': 1, 'или': 1, 'на': 1, 'дно': 1, 'эта': 1, 'дорожка': 1, 'ты': 1, 'живешь': 1, 'каблуком': 1, 'у': 1, 'меня': 1}\n"
     ]
    }
   ],
   "source": [
    "sm_text = some_oxy_text.lower().replace('-','').replace(',','').replace(',','').split() \n",
    "my_dict = {} \n",
    "for word in sm_text: \n",
    "    count = sm_text.count(word) \n",
    "    if word not in my_dict.keys(): \n",
    "        my_dict[word] = count \n",
    "print(my_dict)"
   ]
  },
  {
   "cell_type": "markdown",
   "metadata": {},
   "source": [
    "Как \"разгладить\" список"
   ]
  },
  {
   "cell_type": "code",
   "execution_count": 82,
   "metadata": {},
   "outputs": [],
   "source": [
    "my_list = [['Екатеринбург', 'Москва'], ['Санкт-Петербург', 'Норильск'], ['Пермь', 'Астрахань']]"
   ]
  },
  {
   "cell_type": "code",
   "execution_count": 84,
   "metadata": {},
   "outputs": [
    {
     "data": {
      "text/plain": [
       "['Екатеринбург', 'Москва', 'Санкт-Петербург', 'Норильск', 'Пермь', 'Астрахань']"
      ]
     },
     "execution_count": 84,
     "metadata": {},
     "output_type": "execute_result"
    }
   ],
   "source": [
    "sum(my_list, [])"
   ]
  },
  {
   "cell_type": "code",
   "execution_count": null,
   "metadata": {},
   "outputs": [],
   "source": []
  }
 ],
 "metadata": {
  "kernelspec": {
   "display_name": "Python 3",
   "language": "python",
   "name": "python3"
  },
  "language_info": {
   "codemirror_mode": {
    "name": "ipython",
    "version": 3
   },
   "file_extension": ".py",
   "mimetype": "text/x-python",
   "name": "python",
   "nbconvert_exporter": "python",
   "pygments_lexer": "ipython3",
   "version": "3.8.3"
  }
 },
 "nbformat": 4,
 "nbformat_minor": 4
}
