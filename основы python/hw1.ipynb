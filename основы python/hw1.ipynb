{
 "cells": [
  {
   "cell_type": "markdown",
   "metadata": {},
   "source": [
    "# Домашнее задание к лекции \"Основы Python\""
   ]
  },
  {
   "cell_type": "markdown",
   "metadata": {},
   "source": [
    "## Задание 1 \n",
    "Даны 2 переменных, в которых хранятся строки произвольной длины: phrase_1 и phrase_2.\n",
    "Напишите код, который проверяет какая из этих строк длиннее."
   ]
  },
  {
   "cell_type": "code",
   "execution_count": 6,
   "metadata": {},
   "outputs": [
    {
     "name": "stdout",
     "output_type": "stream",
     "text": [
      "Фразы равной длины\n"
     ]
    }
   ],
   "source": [
    "phrase_1 = \"Насколько проще было бы писать программы, если бы\"\n",
    "phrase_2 = \"Насколько проще было бы писать программы, если бы\"\n",
    "if len(phrase_1) > len(phrase_2):\n",
    "    print(\"Фраза 1 длиннее фразы 2\")\n",
    "elif len(phrase_1) < len(phrase_2):\n",
    "    print(\"Фраза 2 длиннее фразы 1\")\n",
    "else:\n",
    "    print(\"Фразы равной длины\")\n",
    "\n"
   ]
  },
  {
   "cell_type": "markdown",
   "metadata": {},
   "source": [
    "## Задание 2\n",
    "Дана переменная, в которой хранится четырехзначное число (год). Необходимо написать программу, которая выведет, является ли данный год високосным или обычным."
   ]
  },
  {
   "cell_type": "code",
   "execution_count": 3,
   "metadata": {},
   "outputs": [
    {
     "name": "stdout",
     "output_type": "stream",
     "text": [
      "Високосный год\n"
     ]
    }
   ],
   "source": [
    "year = 2016\n",
    "if year%400==0 or (year%4==0 and year%100!=0):\n",
    "    print(\"Високосный год\")\n",
    "else: \n",
    "     print(\"Обычный год\")"
   ]
  },
  {
   "cell_type": "markdown",
   "metadata": {},
   "source": [
    "## Задание 3\n",
    "Необходимо написать программу, которая будет запрашивать у пользователя месяц и дату рождения и выводить соответствующий знак зодиака."
   ]
  },
  {
   "cell_type": "code",
   "execution_count": 5,
   "metadata": {},
   "outputs": [
    {
     "name": "stdout",
     "output_type": "stream",
     "text": [
      "Введите день своего рождения: 25\n",
      "Введите месяц своего рождения с большой буквы: Август\n",
      "Ваш знак зодиака:Дева\n"
     ]
    }
   ],
   "source": [
    "date = int(input('Введите день своего рождения: '))\n",
    "month = input('Введите месяц своего рождения с большой буквы: ')\n",
    "if (date>=21 and date<=31 and month=='Март') or( month=='Апрель' and date>=1 and date<=19):\n",
    "\n",
    "   print(\"Ваш знак зодиака: Овен\")\n",
    "\n",
    "elif (date>=20 and date<=30 and month=='Апрель') or( month=='Май' and date>=1 and date<=20):\n",
    "\n",
    "   print(\"Ваш знак зодиака: Телец\")\n",
    "\n",
    "elif (date>=21 and date<=31 and month=='Май') or( month=='Июнь' and date>=1 and date<=21):\n",
    "\n",
    "   print(\"Ваш знак зодиака: Близнецы\")\n",
    "\n",
    "elif (date>=22 and date<=30 and month=='Июнь') or( month=='Июль' and date>=1 and date<=22):\n",
    "\n",
    "   print(\"Ваш знак зодиака: Рак\")\n",
    "\n",
    "elif (date>=23 and date<=31 and month=='Июль') or( month=='Август' and date>=1 and date<=22):\n",
    "\n",
    "   print(\"Ваш знак зодиака: Лев\")\n",
    "\n",
    "elif (date>=23 and date<=31 and month=='Август') or( month=='Сентябрь' and date>=1 and date<=22):\n",
    "\n",
    "   print(\"Ваш знак зодиака: Дева\")\n",
    "\n",
    "elif (date>=23 and date<=30 and month=='Сентябрь') or( month=='Октябрь' and date>=1 and date<=23):\n",
    "\n",
    "   print(\"Ваш знак зодиака: Весы\")\n",
    "\n",
    "elif (date>=24 and date<=31 and month=='Октябрь') or( month=='Ноябрь' and date>=1 and date<=22):\n",
    "\n",
    "   print(\"Ваш знак зодиака: Скорпион\")\n",
    "\n",
    "elif (date>=23 and date<=30 and month=='Ноябрь') or( month=='Декабрь' and date>=1 and date<=21):\n",
    "\n",
    "   print(\"Ваш знак зодиака: Стрелец\")\n",
    "\n",
    "elif (date>=22 and date<=31 and month=='Декабрь') or( month=='Январь' and date>=1 and date<=20):\n",
    "\n",
    "   print(\"Ваш знак зодиака: Козерог\")\n",
    "\n",
    "elif (date>=21 and date<=31 and month=='Январь') or( month=='Февраль' and date>=1 and date<=18):\n",
    "\n",
    "   print(\"Ваш знак зодиака: Водолей\")\n",
    "\n",
    "elif (date>=19 and date<=29 and month=='Февраль') or( month=='Март' and date>=1 and date<=20):\n",
    "\n",
    "   print(\"Ваш знак зодиака: Рыбы\")\n",
    "else:\n",
    "    print(\"Проверьте введенные данные\")"
   ]
  },
  {
   "cell_type": "markdown",
   "metadata": {},
   "source": [
    "## Задание 4\n",
    "Вам нужно написать программу для подбора упаковок по размерам товара. Размеры хранятся в переменных (в сантиметрах):\n",
    "\n",
    "width = 10\n",
    "length = 205\n",
    "height = 5\n",
    "Используйте следующие правила:\n",
    "\n",
    "если каждое из трех измерений менее 15 сантиметров, то выведите на экран “Коробка №1”;\n",
    "если хотя бы одно из измерений больше 15 сантиметров, но менее 50 сантиметров, то выводите “Коробка №2”;\n",
    "если длина товара больше 2 метров, то выводите “Упаковка для лыж”;\n",
    "во всех остальных случаях выводите “Стандартная коробка №3”."
   ]
  },
  {
   "cell_type": "code",
   "execution_count": 11,
   "metadata": {},
   "outputs": [
    {
     "name": "stdout",
     "output_type": "stream",
     "text": [
      "Упаковка для лыж\n"
     ]
    }
   ],
   "source": [
    "width = 10\n",
    "length = 205\n",
    "height = 5\n",
    "\n",
    "if (width<15 and length<15 and height<15):\n",
    "    print('Коробка №1')\n",
    "elif (15<width<50 or 15<length<50 or 15<height<50):\n",
    "    print('Коробка №2')\n",
    "elif length>200:\n",
    "    print('Упаковка для лыж')\n",
    "else:\n",
    "    print('Стандартная коробка №3')"
   ]
  },
  {
   "cell_type": "markdown",
   "metadata": {},
   "source": [
    "## Задание 5\n",
    "Дана переменная, в которой хранится шестизначное число (номер проездного билета). Напишите программу, которая будет определять, является ли данный билет “счастливым”. Билет считается счастливым, если сумма первых трех цифр совпадает с суммой последних трех цифр номера."
   ]
  },
  {
   "cell_type": "code",
   "execution_count": 16,
   "metadata": {},
   "outputs": [
    {
     "name": "stdout",
     "output_type": "stream",
     "text": [
      "Несчастливый билет\n"
     ]
    }
   ],
   "source": [
    "number = 123326\n",
    "d1 = number % 10\n",
    "d2 = number % 100 // 10\n",
    "d3 = number % 1000 // 100\n",
    "d4 = number % 10000 // 1000\n",
    "d5 = number % 100000 // 10000\n",
    "d6 = number // 100000\n",
    "if d1+d2+d3==d4+d5+d6:\n",
    "    print('Счастливый билет')\n",
    "else:\n",
    "    print('Несчастливый билет')"
   ]
  },
  {
   "cell_type": "markdown",
   "metadata": {},
   "source": [
    "## Задание 6\n",
    "Напишите программу, которая сможет вычислять площади трех фигур (круг, треугольник и прямоугольник). Тип фигуры запрашиваем через пользовательский ввод, после чего делаем запрос характеристик фигуры:\n",
    "\n",
    "если пользователь выбрал круг, запрашиваем его радиус,\n",
    "если треугольник – длины трех его сторон;\n",
    "если прямоугольник – длины двух его сторон."
   ]
  },
  {
   "cell_type": "code",
   "execution_count": 26,
   "metadata": {},
   "outputs": [
    {
     "name": "stdout",
     "output_type": "stream",
     "text": [
      "Введите цифру, соответствующую коду вашей фигуры: 1-круг, 2-треугольник, 3-прямоугольник: 3\n",
      "Введите длину стороны a: 4\n",
      "Введите длину стороны b: 5\n",
      "Площадь прямоугольника: 20\n"
     ]
    }
   ],
   "source": [
    "type = input('Введите цифру, соответствующую коду вашей фигуры: 1-круг, 2-треугольник, 3-прямоугольник: ')\n",
    "if type=='1':\n",
    "    r = int(input('Введите радиус: '))\n",
    "    s = 3.14*r**2\n",
    "    print('Площадь круга:', s)\n",
    "elif type=='2':\n",
    "    a = int(input('Введите длину стороны a: '))\n",
    "    b = int(input('Введите длину стороны b: '))\n",
    "    c = int(input('Введите длину стороны с: '))\n",
    "    p = (a+b+c)/2\n",
    "    s = (p*(p-a)*(p-b)*(p-c))**(1/2)\n",
    "    print('Площадь треугольника:', s)\n",
    "elif type=='3':\n",
    "    a = int(input('Введите длину стороны a: '))\n",
    "    b = int(input('Введите длину стороны b: '))\n",
    "    s = a*b\n",
    "    print('Площадь прямоугольника:', s)\n",
    "else:\n",
    "    print('Проверьте введенные значения')\n",
    "\n",
    "    "
   ]
  }
 ],
 "metadata": {
  "kernelspec": {
   "display_name": "Python 3",
   "language": "python",
   "name": "python3"
  },
  "language_info": {
   "codemirror_mode": {
    "name": "ipython",
    "version": 3
   },
   "file_extension": ".py",
   "mimetype": "text/x-python",
   "name": "python",
   "nbconvert_exporter": "python",
   "pygments_lexer": "ipython3",
   "version": "3.8.3"
  }
 },
 "nbformat": 4,
 "nbformat_minor": 2
}
