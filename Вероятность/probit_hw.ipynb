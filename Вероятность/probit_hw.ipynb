{
 "cells": [
  {
   "cell_type": "markdown",
   "metadata": {},
   "source": [
    "# Домашнее задание к лекции «Случайные события. Случайные величины»"
   ]
  },
  {
   "cell_type": "markdown",
   "metadata": {},
   "source": [
    "Смоделировать игру против лотерейного автомата типа “777”. Игрок платит 1 руб., после чего выпадает случайное целое число, равномерно распределенное от 0 до 999. При некоторых значениях числа игрок получает выигрыш (см. справа)\n",
    "\n",
    "Выгодна ли игра игроку?\n",
    "\n",
    "Сколько в среднем приобретает\n",
    "или теряет игрок за одну игру?\n",
    "\n",
    "- 777: 200 руб.\n",
    "- 999: 100 руб.\n",
    "- 555: 50 руб.\n",
    "- 333: 15 руб.\n",
    "- 111: 10 руб.\n",
    "- *77: 5 руб.\n",
    "- **7: 3 руб.\n",
    "- *00: 2 руб.\n",
    "- **0: 1 руб.\n"
   ]
  },
  {
   "cell_type": "code",
   "execution_count": 44,
   "metadata": {},
   "outputs": [],
   "source": [
    "import numpy as np"
   ]
  },
  {
   "cell_type": "code",
   "execution_count": 80,
   "metadata": {},
   "outputs": [
    {
     "name": "stdout",
     "output_type": "stream",
     "text": [
      "Средний выигрыш составялет 0.81 руб\n",
      "Вероятность отбить цену игры (выиграть более 1 рубля) составляет 11.29%\n",
      "В среднем за одну игру игрок теряет 0.19 руб\n"
     ]
    }
   ],
   "source": [
    "tries = 1000000\n",
    "price_list = []\n",
    "win = 0\n",
    "ruls = {'777': 200, '999':100, '555':50, '333':15, '111':10, '77':5, '7':3, '00':2, '0':1}\n",
    "\n",
    "for i in range(tries):\n",
    "    price = 0\n",
    "    x = np.random.randint(0, 1000)\n",
    "    if str(x) in ruls.keys():\n",
    "        price = ruls[str(x)]\n",
    "    elif str(x%100) in ruls.keys() and x%100!=0:\n",
    "        price = ruls[str(x%100)]\n",
    "    elif x%100==0:\n",
    "        price = ruls['00']\n",
    "    elif str(x%10) in ruls.keys():\n",
    "        price = ruls[str(x%10)]\n",
    "    else:\n",
    "        price = 0\n",
    "    price_list.append(price)\n",
    "    if price>1:\n",
    "        win+=1\n",
    "print(f'Средний выигрыш составялет {round(sum(price_list)/tries, 2)} руб')\n",
    "print(f'Вероятность отбить цену игры (выиграть более 1 рубля) составляет {round(win/tries*100,2)}%')\n",
    "print(f'В среднем за одну игру игрок теряет {round(1 - sum(price_list)/tries,2)} руб')"
   ]
  },
  {
   "cell_type": "markdown",
   "metadata": {},
   "source": [
    "Игра невыгодна для игрока"
   ]
  },
  {
   "cell_type": "code",
   "execution_count": null,
   "metadata": {},
   "outputs": [],
   "source": []
  }
 ],
 "metadata": {
  "kernelspec": {
   "display_name": "Python 3",
   "language": "python",
   "name": "python3"
  },
  "language_info": {
   "codemirror_mode": {
    "name": "ipython",
    "version": 3
   },
   "file_extension": ".py",
   "mimetype": "text/x-python",
   "name": "python",
   "nbconvert_exporter": "python",
   "pygments_lexer": "ipython3",
   "version": "3.8.3"
  }
 },
 "nbformat": 4,
 "nbformat_minor": 4
}
